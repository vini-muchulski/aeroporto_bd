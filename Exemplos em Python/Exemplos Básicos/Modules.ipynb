{
 "cells": [
  {
   "cell_type": "code",
   "execution_count": 3,
   "metadata": {},
   "outputs": [
    {
     "name": "stdout",
     "output_type": "stream",
     "text": [
      "re.compile('[0-9]+', re.IGNORECASE)\n",
      "Please enter your name correctly!\n",
      "Please enter your name correctly!\n",
      "defaultdict(<class 'int'>, {'macarronada': 5, 'pizza': 3})\n",
      "Counter({'Python': 4, 'C': 3, 'C++': 2, 'Java': 1})\n",
      "The occurrence of Python is: 4\n"
     ]
    }
   ],
   "source": [
    "#importação\n",
    "#import re\n",
    "#my_regex = re.compile(\"[0-9]+\", re.I)\n",
    "#print(my_regex)\n",
    "\n",
    "#importação com renomeação\n",
    "import re as regex\n",
    "my_regex = regex.compile(\"[0-9]+\", regex.I)\n",
    "print(my_regex)\n",
    "\n",
    "name_check = regex.compile(r\"[^A-Za-zs.]\")\n",
    "name = input(\"Please, enter your name: \")\n",
    "while name_check.search(name):\n",
    "    print(\"Please enter your name correctly!\")\n",
    "    name = input(\"Please, enter your name: \")\n",
    "\n",
    "#importação explícita de determinados módulos\n",
    "from collections import defaultdict, Counter\n",
    "food_list = 'macarronada macarronada macarronada macarronada macarronada pizza pizza pizza'.split()\n",
    "food_count = defaultdict(int) \n",
    "for food in food_list:\n",
    "    food_count[food] += 1 # incrementa os elementos em 1\n",
    "print(food_count)\n",
    "\n",
    "#Counter é utilizado para contar objetos em uma estrutura\n",
    "lang_list = ['Python', 'C++', 'C', 'Java', 'Python', 'C', 'Python', 'C++', 'Python', 'C']\n",
    "print(Counter(lang_list))\n",
    "occurrence = Counter(lang_list)\n",
    "print(\"The occurrence of Python is:\",occurrence['Python'])\n"
   ]
  },
  {
   "cell_type": "code",
   "execution_count": null,
   "metadata": {},
   "outputs": [],
   "source": []
  }
 ],
 "metadata": {
  "kernelspec": {
   "display_name": "Python 3.10.4 64-bit",
   "language": "python",
   "name": "python3"
  },
  "language_info": {
   "codemirror_mode": {
    "name": "ipython",
    "version": 3
   },
   "file_extension": ".py",
   "mimetype": "text/x-python",
   "name": "python",
   "nbconvert_exporter": "python",
   "pygments_lexer": "ipython3",
   "version": "3.10.4"
  },
  "vscode": {
   "interpreter": {
    "hash": "ea6272f363b121ac906328f9784414c4ff46af3cd325e9810fe97e6b132ab5cd"
   }
  }
 },
 "nbformat": 4,
 "nbformat_minor": 2
}
