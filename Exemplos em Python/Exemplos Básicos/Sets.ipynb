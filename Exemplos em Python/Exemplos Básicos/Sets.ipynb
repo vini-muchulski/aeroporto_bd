{
 "cells": [
  {
   "cell_type": "code",
   "execution_count": 3,
   "metadata": {},
   "outputs": [
    {
     "name": "stdout",
     "output_type": "stream",
     "text": [
      "2\n",
      "True\n",
      "False\n",
      "False\n",
      "False\n",
      "6\n",
      "3\n",
      "[1, 2, 3]\n"
     ]
    }
   ],
   "source": [
    "s = set()\n",
    "s.add(1)\n",
    "s.add(2)\n",
    "print(len(s))\n",
    "print(2 in s)\n",
    "print(3 in s)\n",
    "\n",
    "stopwords_list = [\"a\", \"an\", \"at\"] + [\"yet\", \"you\"]\n",
    "print(\"zip\" in stopwords_list) \n",
    "\n",
    "#Mais rápido em relação a localização na lista\n",
    "stopwords_set = set(stopwords_list)\n",
    "print(\"zip\" in stopwords_set)\n",
    "\n",
    "#Possibilita a localização de itens distintos\n",
    "item_list = [1, 2, 3, 1, 2, 3]\n",
    "print(len(item_list))\n",
    "item_set = set(item_list)\n",
    "print(len(item_set))\n",
    "print(list(item_set))"
   ]
  },
  {
   "cell_type": "code",
   "execution_count": null,
   "metadata": {},
   "outputs": [],
   "source": []
  }
 ],
 "metadata": {
  "kernelspec": {
   "display_name": "Python 3.10.4 64-bit",
   "language": "python",
   "name": "python3"
  },
  "language_info": {
   "codemirror_mode": {
    "name": "ipython",
    "version": 3
   },
   "file_extension": ".py",
   "mimetype": "text/x-python",
   "name": "python",
   "nbconvert_exporter": "python",
   "pygments_lexer": "ipython3",
   "version": "3.10.4"
  },
  "vscode": {
   "interpreter": {
    "hash": "ea6272f363b121ac906328f9784414c4ff46af3cd325e9810fe97e6b132ab5cd"
   }
  }
 },
 "nbformat": 4,
 "nbformat_minor": 2
}
