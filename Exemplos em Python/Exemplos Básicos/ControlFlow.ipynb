{
 "cells": [
  {
   "cell_type": "code",
   "execution_count": 6,
   "metadata": {},
   "outputs": [
    {
     "name": "stdout",
     "output_type": "stream",
     "text": [
      "quando todos os outros casos falham.\n",
      "0 é menor que 10.\n",
      "1 é menor que 10.\n",
      "2 é menor que 10.\n",
      "3 é menor que 10.\n",
      "4 é menor que 10.\n",
      "5 é menor que 10.\n",
      "6 é menor que 10.\n",
      "7 é menor que 10.\n",
      "8 é menor que 10.\n",
      "9 é menor que 10.\n",
      "0 é menos que 10.\n",
      "1 é menos que 10.\n",
      "2 é menos que 10.\n",
      "3 é menos que 10.\n",
      "4 é menos que 10.\n",
      "5 é menos que 10.\n",
      "6 é menos que 10.\n",
      "7 é menos que 10.\n",
      "8 é menos que 10.\n",
      "9 é menos que 10.\n"
     ]
    }
   ],
   "source": [
    "#Comando if\n",
    "if (1 > 2):\n",
    "    message = \"se 1 for maior que 2.\"\n",
    "elif (1 > 3):\n",
    "    message = \"caso contrário testa elsif.\"\n",
    "else:\n",
    "    message = \"quando todos os outros casos falham.\"\n",
    "print(message)    \n",
    "\n",
    "#while loop\n",
    "x = 0\n",
    "while (x < 10):\n",
    "    print(x, \"é menor que 10.\")\n",
    "    x += 1\n",
    "    \n",
    "#for \n",
    "for x in range(10):\n",
    "    print(x, \"é menos que 10.\")\n",
    "    \n",
    "    "
   ]
  },
  {
   "cell_type": "code",
   "execution_count": null,
   "metadata": {},
   "outputs": [],
   "source": []
  }
 ],
 "metadata": {
  "kernelspec": {
   "display_name": "Python 3",
   "language": "python",
   "name": "python3"
  },
  "language_info": {
   "codemirror_mode": {
    "name": "ipython",
    "version": 3
   },
   "file_extension": ".py",
   "mimetype": "text/x-python",
   "name": "python",
   "nbconvert_exporter": "python",
   "pygments_lexer": "ipython3",
   "version": "3.7.3"
  }
 },
 "nbformat": 4,
 "nbformat_minor": 2
}
