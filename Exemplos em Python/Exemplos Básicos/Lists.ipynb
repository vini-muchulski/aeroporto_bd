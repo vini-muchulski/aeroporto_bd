{
 "cells": [
  {
   "cell_type": "code",
   "execution_count": 3,
   "metadata": {},
   "outputs": [
    {
     "name": "stdout",
     "output_type": "stream",
     "text": [
      "3\n",
      "3\n",
      "[1, 2, 3, 4, 5]\n",
      "1\n",
      "[-1, 2, 3, 4, 5]\n",
      "True\n",
      "[-1, 2, 3, 4, 5, 6, 7, 8]\n",
      "[-1, 2, 3, 4, 5, 6, 7, 8, 9]\n"
     ]
    }
   ],
   "source": [
    "integer_list = [1, 2, 3]\n",
    "heterogeneous_list = [\"string\", 0.1, True]\n",
    "print(len(integer_list))\n",
    "print(len(heterogeneous_list))\n",
    "\n",
    "#obtendo e atribuindo valores para determinado elemento\n",
    "x = [1, 2, 3, 4, 5]\n",
    "print(x)\n",
    "print(x[0])\n",
    "x[0] = -1\n",
    "print(x)\n",
    "\n",
    "#verificação de pertinência\n",
    "print(2 in x)\n",
    "\n",
    "#acrescentando elementos em uma lista\n",
    "x.extend([6, 7, 8])\n",
    "print(x)\n",
    "\n",
    "#acrescentando um elemento para uma lista\n",
    "x.append(9)\n",
    "print(x)\n"
   ]
  },
  {
   "cell_type": "code",
   "execution_count": null,
   "metadata": {},
   "outputs": [],
   "source": []
  }
 ],
 "metadata": {
  "kernelspec": {
   "display_name": "Python 3.10.4 64-bit",
   "language": "python",
   "name": "python3"
  },
  "language_info": {
   "codemirror_mode": {
    "name": "ipython",
    "version": 3
   },
   "file_extension": ".py",
   "mimetype": "text/x-python",
   "name": "python",
   "nbconvert_exporter": "python",
   "pygments_lexer": "ipython3",
   "version": "3.10.4"
  },
  "vscode": {
   "interpreter": {
    "hash": "ea6272f363b121ac906328f9784414c4ff46af3cd325e9810fe97e6b132ab5cd"
   }
  }
 },
 "nbformat": 4,
 "nbformat_minor": 2
}
