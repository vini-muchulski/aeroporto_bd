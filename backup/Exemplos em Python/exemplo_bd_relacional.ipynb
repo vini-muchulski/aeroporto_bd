{
 "cells": [
  {
   "cell_type": "markdown",
   "metadata": {},
   "source": [
    "## Interagindo com Banco de Dados Relacional"
   ]
  },
  {
   "cell_type": "markdown",
   "metadata": {},
   "source": [
    "### MySQL\n",
    "\n",
    "### pip install mysql-connector-python"
   ]
  },
  {
   "cell_type": "code",
   "execution_count": 121,
   "metadata": {},
   "outputs": [
    {
     "name": "stdout",
     "output_type": "stream",
     "text": [
      "False\n",
      "True\n",
      "False\n"
     ]
    }
   ],
   "source": [
    "# Importação de bibliotecas\n",
    "import mysql.connector\n",
    "from mysql.connector import errorcode\n",
    "from datetime import date, datetime\n",
    "import pandas as pd\n",
    "\n",
    "# Estabelece a conexão com o banco de dados\n",
    "try:\n",
    "    conn = mysql.connector.connect(user='root', password='master',\n",
    "                              host='localhost',\n",
    "                              database='bd',\n",
    "                              autocommit=False)\n",
    "except mysql.connector.Error as error:\n",
    "    print(\"Não foi possível realizar a conexão com o banco de dados {}.\".format(error))\n",
    "\n",
    "# Apresenta o valor da propriedade autocommit. \n",
    "print(conn.autocommit)   \n",
    "conn.autocommit = True\n",
    "print(conn.autocommit)\n",
    "conn.autocommit = False\n",
    "print(conn.autocommit)"
   ]
  },
  {
   "cell_type": "markdown",
   "metadata": {},
   "source": [
    "##### Criando tabelas no Banco de Dados"
   ]
  },
  {
   "cell_type": "code",
   "execution_count": 122,
   "metadata": {},
   "outputs": [],
   "source": [
    "tables = {}\n",
    "tables['departamento'] = (\n",
    "    \"CREATE TABLE `departamento` (\"\n",
    "    \"  `id_depto` integer NOT NULL AUTO_INCREMENT,\"\n",
    "    \"  `nome` varchar(100) NOT NULL,\"\n",
    "    \"  PRIMARY KEY (`id_depto`)\"\n",
    "    \")\")    \n",
    "tables['empregado'] = (\n",
    "    \"CREATE TABLE `empregado` (\"\n",
    "    \"  `id_emp` INTEGER NOT NULL AUTO_INCREMENT,\"\n",
    "    \"  `nome` VARCHAR(100) NOT NULL,\"\n",
    "    \"  `data_nascimento` timestamp,\"\n",
    "    \"  `data_contratacao` timestamp,\"\n",
    "    \"  `id_depto` integer,\"\n",
    "    \"  PRIMARY KEY (`id_emp`),\"\n",
    "    \"  FOREIGN KEY(`id_depto`) REFERENCES `departamento` (`id_depto`)\"\n",
    "    \")\")\n"
   ]
  },
  {
   "cell_type": "code",
   "execution_count": 123,
   "metadata": {},
   "outputs": [
    {
     "name": "stdout",
     "output_type": "stream",
     "text": [
      "Criando tabela departamento: Tabela já existe.\n",
      "Criando tabela empregado: Tabela já existe.\n"
     ]
    }
   ],
   "source": [
    "try:\n",
    "    cursor = conn.cursor()\n",
    "\n",
    "    for table_name in tables:\n",
    "        table_description = tables[table_name]\n",
    "        try:\n",
    "            print(\"Criando tabela {}: \".format(table_name), end='')\n",
    "            cursor.execute(table_description)\n",
    "        except mysql.connector.Error as err:\n",
    "            if err.errno == errorcode.ER_TABLE_EXISTS_ERROR:\n",
    "                print(\"Tabela já existe.\")\n",
    "            else:\n",
    "                print(err.msg)\n",
    "        else:\n",
    "            print(\"OK\")\n",
    "except mysql.connector.Error as error:\n",
    "    print(\"Ocorreu um erro durante o processamento {}.\".format(error))\n",
    "finally:\n",
    "    if conn.is_connected():\n",
    "        cursor.close()        "
   ]
  },
  {
   "cell_type": "markdown",
   "metadata": {},
   "source": [
    "##### Executando declarações SQL não parametrizáveis"
   ]
  },
  {
   "cell_type": "code",
   "execution_count": 124,
   "metadata": {},
   "outputs": [
    {
     "name": "stdout",
     "output_type": "stream",
     "text": [
      "Ocorreu um erro durante o processamento 1062 (23000): Duplicate entry '1' for key 'PRIMARY'.\n"
     ]
    }
   ],
   "source": [
    "# Insere alguns departamentos\n",
    "try:\n",
    "    cursor = conn.cursor()\n",
    "    insert = (\"INSERT INTO departamento (id_depto, nome) VALUES (1, 'Departamento 1')\")\n",
    "    cursor.execute(insert)\n",
    "    print(\"Departamento inserido com sucesso!!!\")\n",
    "    insert = (\"INSERT INTO departamento (id_depto, nome) VALUES (2, 'Departamento 2')\")\n",
    "    cursor.execute(insert)\n",
    "    print(\"Departamento inserido com sucesso!!!\")\n",
    "    conn.commit()\n",
    "except mysql.connector.Error as error:\n",
    "    print(\"Ocorreu um erro durante o processamento {}.\".format(error))\n",
    "finally:\n",
    "    if conn.is_connected():\n",
    "      cursor.close()  "
   ]
  },
  {
   "cell_type": "code",
   "execution_count": 130,
   "metadata": {},
   "outputs": [
    {
     "name": "stdout",
     "output_type": "stream",
     "text": [
      "Empregado inserido com sucesso!!!\n"
     ]
    }
   ],
   "source": [
    "# Insere um empregado\n",
    "try:\n",
    "    cursor = conn.cursor()\n",
    "    insert = (\"INSERT INTO empregado (nome, data_nascimento, data_contratacao, id_depto)\" \n",
    "              \"VALUES ('Empregado 1','1997-6-14','2022-10-10', 1)\")\n",
    "    cursor.execute(insert)\n",
    "    conn.commit()\n",
    "    print(\"Empregado inserido com sucesso!!!\")\n",
    "except mysql.connector.Error as error:\n",
    "    print(\"Ocorreu um erro durante o processamento {}.\".format(error))\n",
    "finally:\n",
    "    if conn.is_connected():\n",
    "      cursor.close()        "
   ]
  },
  {
   "cell_type": "code",
   "execution_count": 133,
   "metadata": {},
   "outputs": [
    {
     "name": "stdout",
     "output_type": "stream",
     "text": [
      "36, Empregado 2, nascido em 12/02/1980, foi contratado em 16/11/2022 para trabalhar no departamento 1.\n",
      "37, Empregado 3, nascido em 23/05/1999, foi contratado em 16/11/2022 para trabalhar no departamento 1.\n",
      "38, Empregado 4, nascido em 03/10/1987, foi contratado em 16/11/2022 para trabalhar no departamento 2.\n",
      "39, Empregado 5, nascido em 11/07/1993, foi contratado em 16/11/2022 para trabalhar no departamento 2.\n"
     ]
    }
   ],
   "source": [
    "try:\n",
    "    cursor = conn.cursor()\n",
    "\n",
    "    select = (\"SELECT id_emp, nome, data_nascimento, data_contratacao, \"\n",
    "              \"id_depto FROM empregado\")\n",
    "\n",
    "    cursor.execute(select)\n",
    "\n",
    "    for (id_emp, nome, data_nascimento, data_contratacao, id_depto) in cursor:\n",
    "      print(\"{}, {}, nascido em {:%d/%m/%Y}, foi contratado em {:%d/%m/%Y} para \"\n",
    "            \"trabalhar no departamento {}.\".format(id_emp, nome, data_nascimento, \n",
    "            data_contratacao, id_depto))\n",
    "\n",
    "except mysql.connector.Error as error:\n",
    "    print(\"Ocorreu um erro durante o processamento {}.\".format(error))\n",
    "finally:\n",
    "    if conn.is_connected():\n",
    "        cursor.close()   "
   ]
  },
  {
   "cell_type": "code",
   "execution_count": 132,
   "metadata": {},
   "outputs": [
    {
     "name": "stdout",
     "output_type": "stream",
     "text": [
      "Exclusão ocorrida com sucesso!!!\n"
     ]
    }
   ],
   "source": [
    "# Elimina uma ou mais linhas da tabela empregado\n",
    "try:\n",
    "    cursor = conn.cursor()\n",
    "    delete = (\"DELETE FROM empregado WHERE nome = 'Empregado 1'\")\n",
    "    cursor.execute(delete)\n",
    "    conn.commit()\n",
    "    print(\"Exclusão ocorrida com sucesso!!!\")\n",
    "except mysql.connector.Error as error:\n",
    "    print(\"Ocorreu um erro durante o processamento {}.\".format(error))\n",
    "finally:\n",
    "    if conn.is_connected():\n",
    "        cursor.close()"
   ]
  },
  {
   "cell_type": "markdown",
   "metadata": {},
   "source": [
    "##### Executando declarações SQL parametrizáveis"
   ]
  },
  {
   "cell_type": "code",
   "execution_count": 134,
   "metadata": {},
   "outputs": [
    {
     "name": "stdout",
     "output_type": "stream",
     "text": [
      "Empregado inserido com sucesso!!!\n",
      "Empregados inseridos com sucesso!!!\n"
     ]
    }
   ],
   "source": [
    "try:\n",
    "  \n",
    "  cursor = conn.cursor()\n",
    "\n",
    "  datetime = datetime.now()\n",
    "\n",
    "  insert_employee = (\"INSERT INTO empregado \"\n",
    "                \"(nome, data_nascimento, data_contratacao, id_depto) \"\n",
    "                \"VALUES (%s, %s, %s, %s)\")\n",
    "\n",
    "  data_employee = ('Empregado 1', date(1977, 6, 14), datetime, 1)\n",
    "\n",
    "  many_data_employee = [\n",
    "    ('Empregado 2', date(1980, 2, 12), datetime, 1),\n",
    "    ('Empregado 3', date(1999, 5, 23), datetime, 1),\n",
    "    ('Empregado 4', date(1987, 10, 3), datetime, 2),\n",
    "    ('Empregado 5', date(1993, 7, 11), datetime, 2)\n",
    "  ]\n",
    "\n",
    "  # Insere um empregado\n",
    "  cursor.execute(insert_employee, data_employee)\n",
    "  print(\"Empregado inserido com sucesso!!!\")\n",
    "\n",
    "  # Insere vários empregados\n",
    "  cursor.executemany(insert_employee, many_data_employee)\n",
    "  print(\"Empregados inseridos com sucesso!!!\")\n",
    "\n",
    "  conn.commit()\n",
    "\n",
    "except mysql.connector.Error as error:\n",
    "    print(\"Ocorreu um erro durante o processamento {}.\".format(error))\n",
    "finally:\n",
    "    if conn.is_connected():\n",
    "        cursor.close() "
   ]
  },
  {
   "cell_type": "code",
   "execution_count": 138,
   "metadata": {},
   "outputs": [
    {
     "name": "stdout",
     "output_type": "stream",
     "text": [
      "36, Empregado 2 foi contratado em 16/11/2022 para trabalhar no departamento 1\n",
      "37, Empregado 3 foi contratado em 16/11/2022 para trabalhar no departamento 1\n",
      "38, Empregado 4 foi contratado em 16/11/2022 para trabalhar no departamento 2\n",
      "39, Empregado 5 foi contratado em 16/11/2022 para trabalhar no departamento 2\n",
      "43, Empregado 1 foi contratado em 16/11/2022 para trabalhar no departamento 2\n",
      "44, Empregado 2 foi contratado em 16/11/2022 para trabalhar no departamento 1\n",
      "45, Empregado 3 foi contratado em 16/11/2022 para trabalhar no departamento 1\n",
      "46, Empregado 4 foi contratado em 16/11/2022 para trabalhar no departamento 2\n",
      "47, Empregado 5 foi contratado em 16/11/2022 para trabalhar no departamento 2\n"
     ]
    }
   ],
   "source": [
    "try:\n",
    "  \n",
    "  cursor = conn.cursor()\n",
    "\n",
    "  query = (\"SELECT id_emp, nome, data_nascimento, data_contratacao, id_depto FROM empregado \"\n",
    "          \"WHERE data_nascimento BETWEEN %s AND %s\")\n",
    "\n",
    "  hire_start = date(1977, 1, 1)\n",
    "  hire_end = date(2000, 12, 31)\n",
    "\n",
    "  cursor.execute(query, (hire_start, hire_end))\n",
    "\n",
    "  for (id_emp, nome, data_nascimento, data_contratacao, id_depto) in cursor:\n",
    "    print(\"{}, {} foi contratado em {:%d/%m/%Y} para trabalhar no departamento {}\".format(\n",
    "      id_emp, nome, data_contratacao, id_depto))\n",
    "\n",
    "except mysql.connector.Error as error:\n",
    "    print(\"Ocorreu um erro durante o processamento {}.\".format(error))\n",
    "finally:\n",
    "    if conn.is_connected():\n",
    "        cursor.close() "
   ]
  },
  {
   "cell_type": "code",
   "execution_count": 137,
   "metadata": {},
   "outputs": [
    {
     "name": "stdout",
     "output_type": "stream",
     "text": [
      "Atualização realizado com sucesso!!!\n"
     ]
    }
   ],
   "source": [
    "try:\n",
    "  \n",
    "  cursor = conn.cursor()\n",
    "\n",
    "  query = (\"UPDATE empregado set id_depto = %s \"\n",
    "          \" WHERE nome = %s\")\n",
    "\n",
    "  cursor.execute(query, (2, 'Empregado 1'))\n",
    "  \n",
    "  print(\"Atualização realizado com sucesso!!!\")\n",
    "\n",
    "  conn.commit()\n",
    "\n",
    "except mysql.connector.Error as error:\n",
    "    print(\"Ocorreu um erro durante o processamento {}.\".format(error))\n",
    "finally:\n",
    "    if conn.is_connected():\n",
    "        cursor.close() "
   ]
  },
  {
   "cell_type": "markdown",
   "metadata": {},
   "source": [
    "#### Realizando uma consulta com função de agregação e apresentando o gráfico resultante"
   ]
  },
  {
   "cell_type": "code",
   "execution_count": 139,
   "metadata": {},
   "outputs": [
    {
     "name": "stderr",
     "output_type": "stream",
     "text": [
      "d:\\ArquivosProgramas\\Python\\Python310\\lib\\site-packages\\pandas\\io\\sql.py:761: UserWarning: pandas only support SQLAlchemy connectable(engine/connection) ordatabase string URI or sqlite3 DBAPI2 connectionother DBAPI2 objects are not tested, please consider using SQLAlchemy\n",
      "  warnings.warn(\n"
     ]
    },
    {
     "data": {
      "text/html": [
       "<div>\n",
       "<style scoped>\n",
       "    .dataframe tbody tr th:only-of-type {\n",
       "        vertical-align: middle;\n",
       "    }\n",
       "\n",
       "    .dataframe tbody tr th {\n",
       "        vertical-align: top;\n",
       "    }\n",
       "\n",
       "    .dataframe thead th {\n",
       "        text-align: right;\n",
       "    }\n",
       "</style>\n",
       "<table border=\"1\" class=\"dataframe\">\n",
       "  <thead>\n",
       "    <tr style=\"text-align: right;\">\n",
       "      <th></th>\n",
       "      <th>Nome do Departamento</th>\n",
       "      <th>Total de Empregados</th>\n",
       "    </tr>\n",
       "  </thead>\n",
       "  <tbody>\n",
       "    <tr>\n",
       "      <th>0</th>\n",
       "      <td>Departamento 1</td>\n",
       "      <td>4</td>\n",
       "    </tr>\n",
       "    <tr>\n",
       "      <th>1</th>\n",
       "      <td>Departamento 2</td>\n",
       "      <td>5</td>\n",
       "    </tr>\n",
       "  </tbody>\n",
       "</table>\n",
       "</div>"
      ],
      "text/plain": [
       "  Nome do Departamento  Total de Empregados\n",
       "0       Departamento 1                    4\n",
       "1       Departamento 2                    5"
      ]
     },
     "execution_count": 139,
     "metadata": {},
     "output_type": "execute_result"
    }
   ],
   "source": [
    "# Executa uma consulta com agregação e armazena o resultado em um DataFrame\n",
    "query = (\"select d.nome as 'Nome do Departamento', count(*) as 'Total de Empregados' \"\n",
    "         \" from empregado as e inner join departamento as d \" \n",
    "\t     \" on e.id_depto = d.id_depto \"\n",
    "         \" group by 1\")\n",
    "df = pd.read_sql(query, con = conn)\n",
    "df"
   ]
  },
  {
   "cell_type": "code",
   "execution_count": 140,
   "metadata": {},
   "outputs": [
    {
     "data": {
      "text/plain": [
       "<AxesSubplot:xlabel='Nome do Departamento'>"
      ]
     },
     "execution_count": 140,
     "metadata": {},
     "output_type": "execute_result"
    },
    {
     "data": {
      "image/png": "[encoded data removed]",
      "text/plain": [
       "<Figure size 432x288 with 1 Axes>"
      ]
     },
     "metadata": {
      "needs_background": "light"
     },
     "output_type": "display_data"
    }
   ],
   "source": [
    "df.plot(kind=\"bar\", x=\"Nome do Departamento\")"
   ]
  },
  {
   "cell_type": "code",
   "execution_count": 141,
   "metadata": {},
   "outputs": [
    {
     "name": "stdout",
     "output_type": "stream",
     "text": [
      "Conexão encerrda com sucesso!!!\n"
     ]
    }
   ],
   "source": [
    "if conn.is_connected():\n",
    "    try:\n",
    "        conn.close()\n",
    "        print(\"Conexão encerrda com sucesso!!!\")\n",
    "    except mysql.connector.Error as error:\n",
    "        print(\"Ocorreu um erro durante o processamento {}.\".format(error))\n"
   ]
  },
  {
   "cell_type": "markdown",
   "metadata": {},
   "source": [
    "### PostgreSQL\n",
    "\n",
    "### pip install psycopg2"
   ]
  },
  {
   "cell_type": "code",
   "execution_count": 14,
   "metadata": {},
   "outputs": [
    {
     "data": {
      "text/plain": [
       "False"
      ]
     },
     "execution_count": 14,
     "metadata": {},
     "output_type": "execute_result"
    }
   ],
   "source": [
    "import psycopg2\n",
    "cnx = psycopg2.connect(host='localhost', port='5432', database='bd', user='postgres', password='master')\n",
    "cursor = cnx.cursor()\n",
    "cnx.autocommit"
   ]
  },
  {
   "cell_type": "code",
   "execution_count": 8,
   "metadata": {},
   "outputs": [
    {
     "name": "stdout",
     "output_type": "stream",
     "text": [
      "Tabela já existe.\n"
     ]
    }
   ],
   "source": [
    "sql = 'create table cidade (id serial primary key, nome varchar(100), uf varchar(2))'\n",
    "try:\n",
    "    cursor.execute(sql)\n",
    "except Exception as err:\n",
    "    print(\"Tabela já existe.\")\n",
    "    cnx.rollback()\n",
    "else:\n",
    "    print(\"OK\")"
   ]
  },
  {
   "cell_type": "code",
   "execution_count": 9,
   "metadata": {},
   "outputs": [],
   "source": [
    "sql = \"insert into cidade values (default,'Santa Catarina','SC')\"\n",
    "cursor.execute(sql)"
   ]
  },
  {
   "cell_type": "code",
   "execution_count": 10,
   "metadata": {},
   "outputs": [
    {
     "name": "stdout",
     "output_type": "stream",
     "text": [
      "(1, 'Santa Catarina', 'SC')\n",
      "(2, 'Santa Catarina', 'SC')\n",
      "(3, 'Santa Catarina', 'SC')\n",
      "(4, 'Santa Catarina', 'SC')\n",
      "(5, 'Santa Catarina', 'SC')\n",
      "(6, 'Santa Catarina', 'SC')\n",
      "(7, 'Santa Catarina', 'SC')\n"
     ]
    }
   ],
   "source": [
    "cursor.execute('select * from cidade')\n",
    "recset = cursor.fetchall()\n",
    "for rec in recset:\n",
    "    print (rec)"
   ]
  },
  {
   "cell_type": "code",
   "execution_count": 11,
   "metadata": {},
   "outputs": [],
   "source": [
    "cnx.commit()"
   ]
  },
  {
   "cell_type": "code",
   "execution_count": 12,
   "metadata": {},
   "outputs": [],
   "source": [
    "cnx.close()"
   ]
  }
 ],
 "metadata": {
  "kernelspec": {
   "display_name": "Python 3.10.4 64-bit",
   "language": "python",
   "name": "python3"
  },
  "language_info": {
   "codemirror_mode": {
    "name": "ipython",
    "version": 3
   },
   "file_extension": ".py",
   "mimetype": "text/x-python",
   "name": "python",
   "nbconvert_exporter": "python",
   "pygments_lexer": "ipython3",
   "version": "3.10.4"
  },
  "vscode": {
   "interpreter": {
    "hash": "ea6272f363b121ac906328f9784414c4ff46af3cd325e9810fe97e6b132ab5cd"
   }
  }
 },
 "nbformat": 4,
 "nbformat_minor": 2
}
