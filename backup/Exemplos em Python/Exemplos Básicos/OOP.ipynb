{
 "cells": [
  {
   "cell_type": "code",
   "execution_count": 1,
   "metadata": {},
   "outputs": [
    {
     "name": "stdout",
     "output_type": "stream",
     "text": [
      "True\n",
      "False\n",
      "Set: dict_keys([1, 2, 3, 5, 6])\n"
     ]
    }
   ],
   "source": [
    "#Por convenção classes iniciam com letra maiúscula\n",
    "class Set:\n",
    "    \n",
    "    def __init__(self, values=None):\n",
    "        self.dict = {}\n",
    "        \n",
    "        if (values is not None):\n",
    "            for value in values:\n",
    "                self.add(value)\n",
    "                \n",
    "    def toString(self):\n",
    "        return \"Set: \"+str(self.dict.keys())\n",
    "    \n",
    "    def add(self, value):\n",
    "        self.dict[value] = True\n",
    "        \n",
    "    def contains(self, value):\n",
    "        return value in self.dict\n",
    "    \n",
    "    def remove(self, value):\n",
    "        del self.dict[value]\n",
    "\n",
    "s = Set([1, 2, 3, 4, 5])\n",
    "s.add(6)\n",
    "print(s.contains(4))\n",
    "s.remove(4)\n",
    "print(s.contains(4))\n",
    "print(s.toString())\n",
    "\n",
    "\n",
    "    "
   ]
  },
  {
   "cell_type": "code",
   "execution_count": null,
   "metadata": {},
   "outputs": [],
   "source": []
  }
 ],
 "metadata": {
  "kernelspec": {
   "display_name": "Python 3.10.4 64-bit",
   "language": "python",
   "name": "python3"
  },
  "language_info": {
   "codemirror_mode": {
    "name": "ipython",
    "version": 3
   },
   "file_extension": ".py",
   "mimetype": "text/x-python",
   "name": "python",
   "nbconvert_exporter": "python",
   "pygments_lexer": "ipython3",
   "version": "3.10.4"
  },
  "vscode": {
   "interpreter": {
    "hash": "ea6272f363b121ac906328f9784414c4ff46af3cd325e9810fe97e6b132ab5cd"
   }
  }
 },
 "nbformat": 4,
 "nbformat_minor": 2
}
