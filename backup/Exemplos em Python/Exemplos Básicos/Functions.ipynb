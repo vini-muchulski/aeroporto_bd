{
 "cells": [
  {
   "cell_type": "code",
   "execution_count": 2,
   "metadata": {},
   "outputs": [
    {
     "name": "stdout",
     "output_type": "stream",
     "text": [
      "5.0\n",
      "2\n",
      "olá\n",
      "mensagem padrão\n",
      "5\n",
      "-5\n",
      "-5\n"
     ]
    }
   ],
   "source": [
    "\"\"\"Comentário sobre a função\"\"\"\n",
    "def double(x):\n",
    "    return x * 2\n",
    "\n",
    "res = double(2.5)\n",
    "print(res)\n",
    "\n",
    "\"\"\"Comentário sobre a função\"\"\"\n",
    "def apply_to_one(f):\n",
    "    return f(1)\n",
    "x = apply_to_one(double)\n",
    "print(x)\n",
    "\n",
    "\"\"\"Comentário sobre a função\"\"\"\n",
    "def my_print(message=\"mensagem padrão\"):\n",
    "    print(message)\n",
    "my_print(\"olá\")\n",
    "my_print()\n",
    "\n",
    "\"\"\"Comentário sobre a função\"\"\"\n",
    "def subtract(a=0, b=0):\n",
    "    return a - b\n",
    "print(subtract(10, 5))\n",
    "print(subtract(0,5))\n",
    "print(subtract(b=5))\n",
    "    \n",
    "\n"
   ]
  },
  {
   "cell_type": "code",
   "execution_count": null,
   "metadata": {},
   "outputs": [],
   "source": []
  }
 ],
 "metadata": {
  "kernelspec": {
   "display_name": "Python 3.10.4 64-bit",
   "language": "python",
   "name": "python3"
  },
  "language_info": {
   "codemirror_mode": {
    "name": "ipython",
    "version": 3
   },
   "file_extension": ".py",
   "mimetype": "text/x-python",
   "name": "python",
   "nbconvert_exporter": "python",
   "pygments_lexer": "ipython3",
   "version": "3.10.4"
  },
  "vscode": {
   "interpreter": {
    "hash": "ea6272f363b121ac906328f9784414c4ff46af3cd325e9810fe97e6b132ab5cd"
   }
  }
 },
 "nbformat": 4,
 "nbformat_minor": 2
}
