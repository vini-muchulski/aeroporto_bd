{
 "cells": [
  {
   "cell_type": "code",
   "execution_count": 10,
   "metadata": {},
   "outputs": [
    {
     "name": "stdout",
     "output_type": "stream",
     "text": [
      "{'Aluno 1': 8.5, 'Aluno 2': 9.0, 'Aluno 3': 7.0}\n",
      "9.0\n",
      "Nenhuma nota para o Aluno 4\n",
      "Nota do Aluno 1: 8.5\n",
      "Nota do Aluno 4: 0\n",
      "3\n",
      "dict_keys(['user', 'text', 'retweet_count', 'hashtags'])\n",
      "dict_values(['Usuário 1', 'Ciência de Dados é uma área promissora', 100, ['#data', '#science']])\n",
      "dict_items([('user', 'Usuário 1'), ('text', 'Ciência de Dados é uma área promissora'), ('retweet_count', 100), ('hashtags', ['#data', '#science'])])\n"
     ]
    }
   ],
   "source": [
    "grades = {\"Aluno 1\" : 8.5, \"Aluno 2\" : 9.0, \"Aluno 3\": 7.0}\n",
    "print(grades)\n",
    "grade = grades[\"Aluno 2\"]\n",
    "print(grade)\n",
    "\n",
    "#Um erro será retornado se a chave não for localizada no dicionário\n",
    "try:\n",
    "    grade = grades[\"Aluno 4\"]\n",
    "except:\n",
    "    print(\"Nenhuma nota para o Aluno 4\")\n",
    "    \n",
    "#Pode-se utilizar o método get para obter os valores ao invés de tratar em uma exceção\n",
    "std_1 = grades.get(\"Aluno 1\", 0)\n",
    "print('Nota do Aluno 1: '+str(std_1))\n",
    "std_4 = grades.get(\"Aluno 4\", 0)\n",
    "print('Nota do Aluno 4: '+str(std_4))\n",
    "print(len(grades))\n",
    "\n",
    "#Utilizado para representar dados estruturados\n",
    "tweet = {\n",
    "    \"user\" : \"Usuário 1\",\n",
    "    \"text\" : \"Ciência de Dados é uma área promissora\",\n",
    "    \"retweet_count\" : 100,\n",
    "    \"hashtags\" : [\"#data\", \"#science\"]\n",
    "}\n",
    "print(tweet.keys())\n",
    "print(tweet.values())\n",
    "print(tweet.items())\n",
    "\n"
   ]
  },
  {
   "cell_type": "code",
   "execution_count": null,
   "metadata": {},
   "outputs": [],
   "source": []
  }
 ],
 "metadata": {
  "kernelspec": {
   "display_name": "Python 3.10.4 64-bit",
   "language": "python",
   "name": "python3"
  },
  "language_info": {
   "codemirror_mode": {
    "name": "ipython",
    "version": 3
   },
   "file_extension": ".py",
   "mimetype": "text/x-python",
   "name": "python",
   "nbconvert_exporter": "python",
   "pygments_lexer": "ipython3",
   "version": "3.10.4"
  },
  "vscode": {
   "interpreter": {
    "hash": "ea6272f363b121ac906328f9784414c4ff46af3cd325e9810fe97e6b132ab5cd"
   }
  }
 },
 "nbformat": 4,
 "nbformat_minor": 2
}
