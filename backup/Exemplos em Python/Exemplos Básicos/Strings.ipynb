{
 "cells": [
  {
   "cell_type": "code",
   "execution_count": 1,
   "metadata": {},
   "outputs": [
    {
     "name": "stdout",
     "output_type": "stream",
     "text": [
      "ciência de dados\n",
      "ciência de dados\n",
      "1\n",
      "Tab - início\tfim.\n",
      "Esta é a primeira linha\n",
      "e esta é a segunda linha\n"
     ]
    }
   ],
   "source": [
    "single_quoted_string = 'ciência de dados'\n",
    "double_quoted_string = \"ciência de dados\"\n",
    "print(single_quoted_string)\n",
    "print(double_quoted_string)\n",
    "\n",
    "tab_string = \"\\t\"  #representa o caracter tab\n",
    "print(len(tab_string))\n",
    "print(\"Tab - início\"+tab_string+\"fim.\")\n",
    "\n",
    "multi_line_string = \"\"\"Esta é a primeira linha\n",
    "e esta é a segunda linha\"\"\"\n",
    "print(multi_line_string)\n"
   ]
  },
  {
   "cell_type": "code",
   "execution_count": null,
   "metadata": {},
   "outputs": [],
   "source": []
  }
 ],
 "metadata": {
  "kernelspec": {
   "display_name": "Python 3.10.4 64-bit",
   "language": "python",
   "name": "python3"
  },
  "language_info": {
   "codemirror_mode": {
    "name": "ipython",
    "version": 3
   },
   "file_extension": ".py",
   "mimetype": "text/x-python",
   "name": "python",
   "nbconvert_exporter": "python",
   "pygments_lexer": "ipython3",
   "version": "3.10.4"
  },
  "vscode": {
   "interpreter": {
    "hash": "ea6272f363b121ac906328f9784414c4ff46af3cd325e9810fe97e6b132ab5cd"
   }
  }
 },
 "nbformat": 4,
 "nbformat_minor": 2
}
